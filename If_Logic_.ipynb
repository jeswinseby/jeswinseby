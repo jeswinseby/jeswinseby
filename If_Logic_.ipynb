{
  "nbformat": 4,
  "nbformat_minor": 0,
  "metadata": {
    "colab": {
      "name": "If Logic .ipynb",
      "provenance": []
    },
    "kernelspec": {
      "name": "python3",
      "display_name": "Python 3"
    },
    "language_info": {
      "name": "python"
    }
  },
  "cells": [
    {
      "cell_type": "code",
      "execution_count": 1,
      "metadata": {
        "id": "_kO-SETCyL--"
      },
      "outputs": [],
      "source": [
        "x=10\n",
        "y=10"
      ]
    },
    {
      "cell_type": "code",
      "source": [
        "if x>y:\n",
        "  print(\"x is greater than y\")\n",
        "if x<y:\n",
        "  print(\"x is less than y\")\n",
        "if x==y:\n",
        "  print(\"x is equal to y\")"
      ],
      "metadata": {
        "colab": {
          "base_uri": "https://localhost:8080/"
        },
        "id": "dEYJ5gsa0Ut1",
        "outputId": "ec4d384e-22fd-417a-9e82-41b2b2857642"
      },
      "execution_count": 2,
      "outputs": [
        {
          "output_type": "stream",
          "name": "stdout",
          "text": [
            "x is equal to y\n"
          ]
        }
      ]
    },
    {
      "cell_type": "code",
      "source": [
        "x=int(input(\"enter a number:\"))\n",
        "if x==100:\n",
        "  print(\"equal\")\n",
        "if x>100:\n",
        "  print(\"pass\")\n",
        "if x<100:\n",
        "  print(\"fail\")"
      ],
      "metadata": {
        "colab": {
          "base_uri": "https://localhost:8080/"
        },
        "id": "3rvi1UMM9IVx",
        "outputId": "e0e02f85-50b6-4955-b6c1-eba886267b7e"
      },
      "execution_count": 3,
      "outputs": [
        {
          "output_type": "stream",
          "name": "stdout",
          "text": [
            "enter a number:50\n",
            "fail\n"
          ]
        }
      ]
    },
    {
      "cell_type": "code",
      "source": [
        "type(x)"
      ],
      "metadata": {
        "colab": {
          "base_uri": "https://localhost:8080/"
        },
        "id": "Z3ANt_GF-PQI",
        "outputId": "9a3fdc0b-bade-49c9-edf0-d3cc3b08f52b"
      },
      "execution_count": 4,
      "outputs": [
        {
          "output_type": "execute_result",
          "data": {
            "text/plain": [
              "int"
            ]
          },
          "metadata": {},
          "execution_count": 4
        }
      ]
    },
    {
      "cell_type": "code",
      "source": [
        "x=int(input(\"enter your salary:\"))\n",
        "if x<250000:\n",
        "  print(\"you are not taxable\")\n",
        "if x>250000:\n",
        "  print(x*30/100)\n",
        "  print(\"you are taxable\")"
      ],
      "metadata": {
        "colab": {
          "base_uri": "https://localhost:8080/"
        },
        "id": "dssJkXRq_Fvx",
        "outputId": "df17e876-b494-4000-e773-b64af5ce4ba2"
      },
      "execution_count": 5,
      "outputs": [
        {
          "output_type": "stream",
          "name": "stdout",
          "text": [
            "enter your salary:10000000\n",
            "3000000.0\n",
            "you are taxable\n"
          ]
        }
      ]
    },
    {
      "cell_type": "code",
      "source": [
        ""
      ],
      "metadata": {
        "id": "GmvF1wvzDA3q"
      },
      "execution_count": 5,
      "outputs": []
    }
  ]
}